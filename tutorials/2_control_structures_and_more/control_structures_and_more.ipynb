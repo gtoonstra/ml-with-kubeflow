{
 "cells": [
  {
   "cell_type": "markdown",
   "metadata": {},
   "source": [
    "# Control structures and more\n",
    "\n",
    "This notebook shows how you can influence the flow of a kubeflow pipeline. It also puts some more components together, so you can see how that is done and on what basis. Most if not all of the code was utilized from the kubeflow samples available here:\n",
    "\n",
    "https://github.com/kubeflow/pipelines/blob/master/samples/tutorials/Data%20passing%20in%20python%20components/Data%20passing%20in%20python%20components%20-%20Files.py\n",
    "\n",
    "First, the usual imports and connecting with the client."
   ]
  },
  {
   "cell_type": "code",
   "execution_count": 1,
   "metadata": {},
   "outputs": [],
   "source": [
    "import kfp\n",
    "from kfp import dsl\n",
    "from kfp.components import func_to_container_op, InputPath, OutputPath\n",
    "\n",
    "host='http://localhost:8080'\n",
    "client = kfp.Client(host=host)"
   ]
  },
  {
   "cell_type": "markdown",
   "metadata": {},
   "source": [
    "And the pipeline code. All it does is generate a random number and on the basis of the outcome run either the left or the right half of the pipeline.\n",
    "\n",
    "What you should notice (and question) is how kubeflow knows how to put the pipeline components in the right order. This is actually done on the basis of hooking up the outputs of components into the inputs of other components. You'll see in this example how that works."
   ]
  },
  {
   "cell_type": "code",
   "execution_count": 2,
   "metadata": {},
   "outputs": [],
   "source": [
    "# This is a simple op/task that flips a coin, implemented as a python function.\n",
    "@func_to_container_op\n",
    "def flip_coin_op() -> str:\n",
    "    \"\"\"Flip a coin and output heads or tails randomly.\"\"\"\n",
    "    import random\n",
    "    result = random.choice(['heads', 'tails'])\n",
    "    print(result)\n",
    "    return result\n",
    "\n",
    "\n",
    "# This will be implemented as a python function, accepting two parameters and outputting an integer.\n",
    "@func_to_container_op\n",
    "def get_random_int_op(minimum: int, maximum: int) -> int:\n",
    "    \"\"\"Generate a random number between minimum and maximum (inclusive).\"\"\"\n",
    "    # When imports are needed, they have to be embedded in the function. The function \"body\" will be copied\n",
    "    # into the yaml, so everything including the imports have to be in there.\n",
    "    import random\n",
    "    result = random.randint(minimum, maximum)\n",
    "    print(result)\n",
    "    return result\n",
    "\n",
    "\n",
    "# A task that repeats the input line and writes it to a text file. This component can be thought of\n",
    "# as generating an \"artifact\" in a ML pipeline.\n",
    "# \n",
    "# The \"OutputPath\" is a special type in kubeflow and is treated differently in the execution.\n",
    "# and can be used as input parameter for another function, as we will see in the next example.\n",
    "@func_to_container_op\n",
    "def repeat_line(line: str, output_text_path: OutputPath(str), count: int = 10):\n",
    "    '''Repeat the line specified number of times'''\n",
    "    with open(output_text_path, 'w') as writer:\n",
    "        for i in range(count):\n",
    "            writer.write(line + '\\n')\n",
    "\n",
    "\n",
    "# This accepts an \"InputPath\", which typically should be the OutputPath of another function.\n",
    "@func_to_container_op\n",
    "def print_text(text_path: InputPath()):\n",
    "    with open(text_path, 'r') as reader:\n",
    "        for line in reader:\n",
    "            print(line, end = '')\n",
    "\n",
    "\n",
    "# The pipeline definition. \n",
    "# Here, we run 'repeat-task' first, which generates some input data for us.\n",
    "# print_task then gets passed the output location of the first task and prints each line to console.\n",
    "@dsl.pipeline(\n",
    "    name='Control structures and more',\n",
    "    description='Generates numbers in a control flow.'\n",
    ")\n",
    "def control_structures_and_more():\n",
    "    flip = flip_coin_op()\n",
    "    with dsl.Condition(flip.output == 'heads'):\n",
    "        random_num_head = get_random_int_op(10, 50)\n",
    "        with dsl.Condition(random_num_head.output > 30):\n",
    "            repeat_line_op = repeat_line(line=\"Heads more than 30\", count=random_num_head.output)\n",
    "            print_text_op = print_text(repeat_line_op.output)\n",
    "        with dsl.Condition(random_num_head.output <= 30):\n",
    "            repeat_line_op = repeat_line(line=\"Heads less than or equal to 30\", count=random_num_head.output)\n",
    "            print_text_op = print_text(repeat_line_op.output)\n",
    "\n",
    "    with dsl.Condition(flip.output == 'tails'):\n",
    "        random_num_head = get_random_int_op(10, 50)\n",
    "        with dsl.Condition(random_num_head.output > 30):\n",
    "            repeat_line_op = repeat_line(line=\"Tails more than 30\", count=random_num_head.output)\n",
    "            print_text_op = print_text(repeat_line_op.output)\n",
    "        with dsl.Condition(random_num_head.output <= 30):\n",
    "            repeat_line_op = repeat_line(line=\"Tails less than or equal to 30\", count=random_num_head.output)\n",
    "            print_text_op = print_text(repeat_line_op.output)"
   ]
  },
  {
   "cell_type": "markdown",
   "metadata": {},
   "source": [
    "Compiling it to verify syntax and also having a look at the yaml output:"
   ]
  },
  {
   "cell_type": "code",
   "execution_count": 3,
   "metadata": {},
   "outputs": [],
   "source": [
    "kfp.compiler.Compiler().compile(control_structures_and_more, 'control_structures_and_more.yaml')"
   ]
  },
  {
   "cell_type": "markdown",
   "metadata": {},
   "source": [
    "And we submit the pipeline to kubeflow and trigger it:"
   ]
  },
  {
   "cell_type": "code",
   "execution_count": 4,
   "metadata": {},
   "outputs": [
    {
     "data": {
      "text/html": [
       "Experiment link <a href=\"http://localhost:8080/#/experiments/details/4f2c1759-d018-4e9f-b893-b4043a821413\" target=\"_blank\" >here</a>"
      ],
      "text/plain": [
       "<IPython.core.display.HTML object>"
      ]
     },
     "metadata": {},
     "output_type": "display_data"
    },
    {
     "data": {
      "text/html": [
       "Run link <a href=\"http://localhost:8080/#/runs/details/8d69cf9a-0c83-414c-9785-431ff0df70fb\" target=\"_blank\" >here</a>"
      ],
      "text/plain": [
       "<IPython.core.display.HTML object>"
      ]
     },
     "metadata": {},
     "output_type": "display_data"
    },
    {
     "data": {
      "text/plain": [
       "RunPipelineResult(run_id=8d69cf9a-0c83-414c-9785-431ff0df70fb)"
      ]
     },
     "execution_count": 4,
     "metadata": {},
     "output_type": "execute_result"
    }
   ],
   "source": [
    "client.create_run_from_pipeline_func(control_structures_and_more, arguments={})"
   ]
  },
  {
   "cell_type": "markdown",
   "metadata": {},
   "source": [
    "Follow the run link and check out the pipeline run. You'll see in \"Input/Output\" the generated files and when you click on them it shows the contents. This is because we passed the file as \"InputPath\" and \"OutputPath\" types, so that kubeflow knows it should retrieve the contents of the file and not just show a path to a file."
   ]
  },
  {
   "cell_type": "code",
   "execution_count": null,
   "metadata": {},
   "outputs": [],
   "source": []
  }
 ],
 "metadata": {
  "kernelspec": {
   "display_name": "Python 3",
   "language": "python",
   "name": "python3"
  },
  "language_info": {
   "codemirror_mode": {
    "name": "ipython",
    "version": 3
   },
   "file_extension": ".py",
   "mimetype": "text/x-python",
   "name": "python",
   "nbconvert_exporter": "python",
   "pygments_lexer": "ipython3",
   "version": "3.7.5"
  }
 },
 "nbformat": 4,
 "nbformat_minor": 4
}
